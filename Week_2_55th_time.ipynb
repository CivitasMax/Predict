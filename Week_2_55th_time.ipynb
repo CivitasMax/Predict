{
  "nbformat": 4,
  "nbformat_minor": 0,
  "metadata": {
    "colab": {
      "name": "Week 2 55th time.ipynb",
      "version": "0.3.2",
      "provenance": [],
      "collapsed_sections": []
    },
    "kernelspec": {
      "name": "python3",
      "display_name": "Python 3"
    }
  },
  "cells": [
    {
      "cell_type": "code",
      "metadata": {
        "id": "DQES7yNpGd7B",
        "colab_type": "code",
        "colab": {}
      },
      "source": [
        " import numpy as np ## for calculations on data\n",
        "import csv\n",
        "\n",
        "import sklearn\n",
        "import matplotlib.pyplot as plt\n",
        "from sklearn.svm import SVR\n",
        "import pandas as pd\n",
        "from sklearn.linear_model import LinearRegression\n",
        "from sklearn.linear_model import Ridge\n",
        "from sklearn.linear_model import Lasso"
      ],
      "execution_count": 0,
      "outputs": []
    },
    {
      "cell_type": "code",
      "metadata": {
        "id": "vChOJEflIvSD",
        "colab_type": "code",
        "outputId": "96655232-381b-4d2c-ba55-c50422915404",
        "colab": {
          "base_uri": "https://localhost:8080/",
          "height": 204
        }
      },
      "source": [
        "df = pd.read_csv('INTC.csv')\n",
        "#df.index = [x for x in range(1, len(df.values)+1)]\n",
        "df.head()"
      ],
      "execution_count": 0,
      "outputs": [
        {
          "output_type": "execute_result",
          "data": {
            "text/html": [
              "<div>\n",
              "<style scoped>\n",
              "    .dataframe tbody tr th:only-of-type {\n",
              "        vertical-align: middle;\n",
              "    }\n",
              "\n",
              "    .dataframe tbody tr th {\n",
              "        vertical-align: top;\n",
              "    }\n",
              "\n",
              "    .dataframe thead th {\n",
              "        text-align: right;\n",
              "    }\n",
              "</style>\n",
              "<table border=\"1\" class=\"dataframe\">\n",
              "  <thead>\n",
              "    <tr style=\"text-align: right;\">\n",
              "      <th></th>\n",
              "      <th>Date</th>\n",
              "      <th>Open</th>\n",
              "      <th>High</th>\n",
              "      <th>Low</th>\n",
              "      <th>Close</th>\n",
              "      <th>Adj Close</th>\n",
              "      <th>Volume</th>\n",
              "    </tr>\n",
              "  </thead>\n",
              "  <tbody>\n",
              "    <tr>\n",
              "      <th>0</th>\n",
              "      <td>9/12/2018</td>\n",
              "      <td>44.560001</td>\n",
              "      <td>44.980000</td>\n",
              "      <td>44.060001</td>\n",
              "      <td>44.930000</td>\n",
              "      <td>43.801979</td>\n",
              "      <td>29778700.0</td>\n",
              "    </tr>\n",
              "    <tr>\n",
              "      <th>1</th>\n",
              "      <td>9/13/2018</td>\n",
              "      <td>45.680000</td>\n",
              "      <td>45.849998</td>\n",
              "      <td>45.110001</td>\n",
              "      <td>45.570000</td>\n",
              "      <td>44.425911</td>\n",
              "      <td>18657100.0</td>\n",
              "    </tr>\n",
              "    <tr>\n",
              "      <th>2</th>\n",
              "      <td>9/14/2018</td>\n",
              "      <td>45.779999</td>\n",
              "      <td>45.970001</td>\n",
              "      <td>45.349998</td>\n",
              "      <td>45.540001</td>\n",
              "      <td>44.396664</td>\n",
              "      <td>22998700.0</td>\n",
              "    </tr>\n",
              "    <tr>\n",
              "      <th>3</th>\n",
              "      <td>9/17/2018</td>\n",
              "      <td>45.290001</td>\n",
              "      <td>45.900002</td>\n",
              "      <td>45.189999</td>\n",
              "      <td>45.419998</td>\n",
              "      <td>44.279678</td>\n",
              "      <td>17603200.0</td>\n",
              "    </tr>\n",
              "    <tr>\n",
              "      <th>4</th>\n",
              "      <td>9/18/2018</td>\n",
              "      <td>45.580002</td>\n",
              "      <td>46.529999</td>\n",
              "      <td>45.410000</td>\n",
              "      <td>46.099998</td>\n",
              "      <td>44.942604</td>\n",
              "      <td>20528100.0</td>\n",
              "    </tr>\n",
              "  </tbody>\n",
              "</table>\n",
              "</div>"
            ],
            "text/plain": [
              "        Date       Open       High        Low      Close  Adj Close      Volume\n",
              "0  9/12/2018  44.560001  44.980000  44.060001  44.930000  43.801979  29778700.0\n",
              "1  9/13/2018  45.680000  45.849998  45.110001  45.570000  44.425911  18657100.0\n",
              "2  9/14/2018  45.779999  45.970001  45.349998  45.540001  44.396664  22998700.0\n",
              "3  9/17/2018  45.290001  45.900002  45.189999  45.419998  44.279678  17603200.0\n",
              "4  9/18/2018  45.580002  46.529999  45.410000  46.099998  44.942604  20528100.0"
            ]
          },
          "metadata": {
            "tags": []
          },
          "execution_count": 5
        }
      ]
    },
    {
      "cell_type": "code",
      "metadata": {
        "id": "Nyh8aWAOKSwj",
        "colab_type": "code",
        "colab": {}
      },
      "source": [
        "#Create the lists / X and y data set\n",
        "dates = []\n",
        "prices = []"
      ],
      "execution_count": 0,
      "outputs": []
    },
    {
      "cell_type": "code",
      "metadata": {
        "id": "qy3DXl_vKYHy",
        "colab_type": "code",
        "outputId": "427514cc-a6be-4fdc-a459-a9df9792e6b8",
        "colab": {
          "base_uri": "https://localhost:8080/",
          "height": 34
        }
      },
      "source": [
        "df.shape ## to show the number of rows and column"
      ],
      "execution_count": 0,
      "outputs": [
        {
          "output_type": "execute_result",
          "data": {
            "text/plain": [
              "(251, 7)"
            ]
          },
          "metadata": {
            "tags": []
          },
          "execution_count": 7
        }
      ]
    },
    {
      "cell_type": "code",
      "metadata": {
        "id": "eErINA-SKcaU",
        "colab_type": "code",
        "outputId": "4effa0a3-2cc3-4400-82d0-2dad0397cba5",
        "colab": {
          "base_uri": "https://localhost:8080/",
          "height": 80
        }
      },
      "source": [
        "df.tail(1) ## data we will be testing on"
      ],
      "execution_count": 0,
      "outputs": [
        {
          "output_type": "execute_result",
          "data": {
            "text/html": [
              "<div>\n",
              "<style scoped>\n",
              "    .dataframe tbody tr th:only-of-type {\n",
              "        vertical-align: middle;\n",
              "    }\n",
              "\n",
              "    .dataframe tbody tr th {\n",
              "        vertical-align: top;\n",
              "    }\n",
              "\n",
              "    .dataframe thead th {\n",
              "        text-align: right;\n",
              "    }\n",
              "</style>\n",
              "<table border=\"1\" class=\"dataframe\">\n",
              "  <thead>\n",
              "    <tr style=\"text-align: right;\">\n",
              "      <th></th>\n",
              "      <th>Date</th>\n",
              "      <th>Open</th>\n",
              "      <th>High</th>\n",
              "      <th>Low</th>\n",
              "      <th>Close</th>\n",
              "      <th>Adj Close</th>\n",
              "      <th>Volume</th>\n",
              "    </tr>\n",
              "  </thead>\n",
              "  <tbody>\n",
              "    <tr>\n",
              "      <th>250</th>\n",
              "      <td>NaN</td>\n",
              "      <td>NaN</td>\n",
              "      <td>NaN</td>\n",
              "      <td>NaN</td>\n",
              "      <td>NaN</td>\n",
              "      <td>NaN</td>\n",
              "      <td>NaN</td>\n",
              "    </tr>\n",
              "  </tbody>\n",
              "</table>\n",
              "</div>"
            ],
            "text/plain": [
              "    Date  Open  High  Low  Close  Adj Close  Volume\n",
              "250  NaN   NaN   NaN  NaN    NaN        NaN     NaN"
            ]
          },
          "metadata": {
            "tags": []
          },
          "execution_count": 8
        }
      ]
    },
    {
      "cell_type": "code",
      "metadata": {
        "id": "YC0P77bUKjVl",
        "colab_type": "code",
        "outputId": "8b9764dc-ca2c-41e3-bfd2-b2de7b9ab68e",
        "colab": {
          "base_uri": "https://localhost:8080/",
          "height": 34
        }
      },
      "source": [
        "#Get all of the data except for the last row -> basically creating another dataset to work with and the predict for the last date\n",
        "df = df.head(len(df)-1)\n",
        "print(df.shape)"
      ],
      "execution_count": 0,
      "outputs": [
        {
          "output_type": "stream",
          "text": [
            "(250, 7)\n"
          ],
          "name": "stdout"
        }
      ]
    },
    {
      "cell_type": "code",
      "metadata": {
        "id": "xp1ljWPLKorR",
        "colab_type": "code",
        "colab": {}
      },
      "source": [
        "df_dates = df.loc[:,'Date'] ## the date column of the dataset is stored into a variabe df_dates\n",
        "df_open = df.loc[:,'Open'] ## the open column of the dataset is stored into a variabe df_open"
      ],
      "execution_count": 0,
      "outputs": []
    },
    {
      "cell_type": "code",
      "metadata": {
        "id": "rMYbcJ3INib_",
        "colab_type": "code",
        "colab": {}
      },
      "source": [
        "for date in df_dates:\n",
        "    (date.split('/'))\n",
        "    dates.append( [int(date.split('/')[1])] ) ## the .split helps us take only the date and remvoes the month and year\n",
        "\n",
        "    \n",
        "# Create the dependent data set 'y' as prices\n",
        "\n",
        "for open_price in df_open: \n",
        "    prices.append(float(open_price))"
      ],
      "execution_count": 0,
      "outputs": []
    },
    {
      "cell_type": "code",
      "metadata": {
        "id": "udEdsNy9Dz_k",
        "colab_type": "code",
        "outputId": "b9a16880-396a-4ee9-d2f1-5b384bc4a87b",
        "colab": {
          "base_uri": "https://localhost:8080/",
          "height": 34
        }
      },
      "source": [
        "print(dates[:10])"
      ],
      "execution_count": 0,
      "outputs": [
        {
          "output_type": "stream",
          "text": [
            "[[12], [13], [14], [17], [18], [19], [20], [21], [24], [25]]\n"
          ],
          "name": "stdout"
        }
      ]
    },
    {
      "cell_type": "code",
      "metadata": {
        "id": "GWAXuqt-GJY7",
        "colab_type": "code",
        "colab": {}
      },
      "source": [
        "#Function to make predictions \n",
        "def predict_prices(dates, prices, x): \n",
        "    \n",
        "    #Create the 3 Support Vector Regression models\n",
        "    svr_lin = SVR(kernel='linear', C= 1e3)\n",
        "    svr_poly= SVR(kernel='poly', C=1e3, degree=2)\n",
        "    svr_rbf = SVR(kernel='rbf', C=1e3, gamma=0.1)\n",
        "    \n",
        "    \n",
        "    #Train the SVR models \n",
        "    svr_lin.fit(dates,prices)\n",
        "    svr_poly.fit(dates,prices)\n",
        "    svr_rbf.fit(dates,prices)\n",
        "    \n",
        "    #Create the Linear Regression model and train it using fitting \n",
        "    lin_reg = LinearRegression()\n",
        "    lin_reg.fit(dates,prices)\n",
        "    \n",
        "    ## Creating a ridge regression model \n",
        "    rr = Ridge(alpha=0.01)\n",
        "    rr.fit(dates,prices)\n",
        "    \n",
        "    ## Creating a lasso model \n",
        "    lasso = Lasso()\n",
        "    lasso.fit(dates,prices)\n",
        "    \n",
        "    #Plot the models on a graph to see which has the best fit\n",
        "     \n",
        "    plt.scatter(dates, prices, color='black', label='Data')\n",
        "    plt.plot(dates, svr_rbf.predict(dates), color='red', label='SVR RBF')\n",
        "    plt.plot(dates, svr_poly.predict(dates), color='blue', label='SVR Poly')\n",
        "    plt.plot(dates, svr_lin.predict(dates), color='green', label='SVR Linear')\n",
        "    plt.plot(dates, lin_reg.predict(dates), color='orange', label='Linear Reg')\n",
        "    plt.plot(dates, rr.predict(dates), color='magenta', label='Ridge Reg')\n",
        "    plt.plot(dates, lasso.predict(dates), color='cyan', label='Lasso Reg')\n",
        "    \n",
        "    plt.xlabel('Days')\n",
        "    plt.ylabel('Price')\n",
        "    plt.title('Regression')\n",
        "    plt.legend().draggable\n",
        "    plt.show()\n",
        "    print ('the svr_rbf predicted value is', svr_rbf.predict(x)[0])\n",
        "    print ('the svr_lin predicted value is ',svr_lin.predict(x)[0])\n",
        "    print ('the svr_poly predicted value is ',svr_poly.predict(x)[0])\n",
        "    print ('the lin_reg predicted value is ',lin_reg.predict(x)[0])\n",
        "    print ('the ridge_reg predicted value is ',rr.predict(x)[0])\n",
        "    print ('the lasso_reg predicted value is ',lasso.predict(x)[0])\n",
        "\n"
      ],
      "execution_count": 0,
      "outputs": []
    },
    {
      "cell_type": "code",
      "metadata": {
        "id": "gXoECNUIGN57",
        "colab_type": "code",
        "outputId": "0679a149-467e-4073-cee3-a3f0cee8b012",
        "colab": {
          "base_uri": "https://localhost:8080/",
          "height": 468
        }
      },
      "source": [
        "predicted_price = predict_prices(dates, prices, [[5]]) ## 5 is the date we saw in the df.tail() \n",
        "print(predicted_price)"
      ],
      "execution_count": 0,
      "outputs": [
        {
          "output_type": "stream",
          "text": [
            "/usr/local/lib/python3.6/dist-packages/sklearn/svm/base.py:193: FutureWarning: The default value of gamma will change from 'auto' to 'scale' in version 0.22 to account better for unscaled features. Set gamma explicitly to 'auto' or 'scale' to avoid this warning.\n",
            "  \"avoid this warning.\", FutureWarning)\n"
          ],
          "name": "stderr"
        },
        {
          "output_type": "display_data",
          "data": {
            "image/png": "[encoded data removed]",
            "text/plain": [
              "<Figure size 432x288 with 1 Axes>"
            ]
          },
          "metadata": {
            "tags": []
          }
        },
        {
          "output_type": "stream",
          "text": [
            "the svr_rbf predicted value is 48.33032487944946\n",
            "the svr_lin predicted value is  48.21352788253455\n",
            "the svr_poly predicted value is  48.129999174598204\n",
            "the lin_reg predicted value is  49.05284943213468\n",
            "the ridge_reg predicted value is  49.052849273148695\n",
            "the lasso_reg predicted value is  48.91238170172585\n",
            "None\n"
          ],
          "name": "stdout"
        }
      ]
    }
  ]
}